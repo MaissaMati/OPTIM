{
  "nbformat": 4,
  "nbformat_minor": 0,
  "metadata": {
    "colab": {
      "name": "RecuitSimule.ipynb",
      "provenance": [],
      "collapsed_sections": []
    },
    "kernelspec": {
      "name": "python3",
      "display_name": "Python 3"
    },
    "language_info": {
      "name": "python"
    }
  },
  "cells": [
    {
      "cell_type": "code",
      "execution_count": 27,
      "metadata": {
        "id": "5ewIJ29_jB_P"
      },
      "outputs": [],
      "source": [
        "import numpy as np \n",
        "import matplotlib.pyplot as plt\n",
        "import random as rd\n",
        "import csv"
      ]
    },
    {
      "cell_type": "code",
      "source": [
        "def ratio_b_over_v(xi):\n",
        "    return xi[2]/xi[1]"
      ],
      "metadata": {
        "id": "6j2tQ9q1knip"
      },
      "execution_count": 28,
      "outputs": []
    },
    {
      "cell_type": "code",
      "source": [
        "def get_v(solution):\n",
        "  volume = 0\n",
        "  for i in range(len(solution)):\n",
        "    volume += pt[solution[i]-1][1]\n",
        "  return volume"
      ],
      "metadata": {
        "id": "0_Q5x2cNjjin"
      },
      "execution_count": 29,
      "outputs": []
    },
    {
      "cell_type": "code",
      "source": [
        "def get_b(solution):\n",
        "  benefice = 0\n",
        "  for i in range(0, len(solution), +1):\n",
        "    benefice += pt[solution[i]-1][2]\n",
        "  return benefice"
      ],
      "metadata": {
        "id": "0AXXTTcikMZy"
      },
      "execution_count": 30,
      "outputs": []
    },
    {
      "cell_type": "code",
      "source": [
        "def affichage(solution, nb_element):\n",
        "  affichage = np.zeros(nb_element, dtype=np.int64)\n",
        "  for i in range (0, len(solution), +1):\n",
        "    affichage[solution[i]-1] += 1\n",
        "  return affichage"
      ],
      "metadata": {
        "id": "09cMwMpukOpN"
      },
      "execution_count": 31,
      "outputs": []
    },
    {
      "cell_type": "code",
      "source": [
        "def get_voisin(solution, pt, vMax, vMin):\n",
        "  taille = len(solution)\n",
        "  nb = np.random.randint(1,taille)\n",
        "  #print(\"nb = \",nb)\n",
        "  for i in range(0, nb, +1):\n",
        "    x = np.random.randint(0,taille-1)\n",
        "    #print(\"supprimer l'élement x =\", x)\n",
        "    del solution[x]\n",
        "  #print(\"après suppression\")\n",
        "  #print( solution)\n",
        "    taille = len(solution)\n",
        "\n",
        "  volume = get_v(solution)\n",
        "\n",
        "  #print(\"maintenant l ajout d'élément\")\n",
        "  while vMax - volume > vMin :\n",
        "    x = np.random.randint(0,len(pt)-1) \n",
        "    #print(\"l élément à ajouter x =\", x)\n",
        "    #print(str(vMax - volume)+\">\" +str(pt[x][1]))\n",
        "    if (vMax - volume > pt[x][1]):\n",
        "      num_produit = pt[x][0]\n",
        "      solution.append(num_produit)\n",
        "      volume += pt[x][1]\n",
        "  return solution"
      ],
      "metadata": {
        "id": "jIJ0QgZAlAs6"
      },
      "execution_count": 33,
      "outputs": []
    },
    {
      "cell_type": "code",
      "source": [
        "def get_solution_init(pt):#density order greedy \n",
        "  pto = pt.copy()\n",
        "  pto.sort(key=ratio_b_over_v, reverse=True)\n",
        "  solution_initiale = [] \n",
        "  vAc = 0 #volume actuel\n",
        "  vMin = 32\n",
        "  vRes = vMax - vAc\n",
        "  i = 0\n",
        "  while (vRes > vMin and i < len(pto)):\n",
        "    if pto[i][1] < (vMax - vAc):\n",
        "      num_produit = pto[i][0] \n",
        "      solution_initiale.append(num_produit)\n",
        "      vAc += pto[i][1]\n",
        "      vRes = vMax - vAc\n",
        "    else :\n",
        "      i +=1\n",
        "  return solution_initiale"
      ],
      "metadata": {
        "id": "z1pBQ9eVlUI_"
      },
      "execution_count": 34,
      "outputs": []
    },
    {
      "cell_type": "code",
      "source": [
        "def Recuit_simule(pt, max_iter, solution_initiale, temperature_initial, alpha, rnd):\n",
        "  print(\"*************paramètres*************\")\n",
        "  print(\"nombre d'itérations : \", max_iter)\n",
        "  print(\"température initiale : \", temperature_initial)\n",
        "  print(\"alpha : \", alpha)\n",
        "  # initialisation de solution courrante\n",
        "  nb_produits = len(pt)\n",
        "  (solution_courrante, volume_courrant, benefice_courant) = (solution_initiale, get_v(solution_initiale), get_b(solution_initiale))\n",
        "  (meilleure_solution, meilleure_benefice) = (solution_courrante, benefice_courant)\n",
        "  print(\"\\n*********solution initial***********\")\n",
        "  print(affichage(meilleure_solution, nb_produits))\n",
        "  print(\"cout initiale : \",meilleure_benefice)\n",
        "  print(\"************************************\\n\")\n",
        "\n",
        "  temperature_courrante = temperature_initial\n",
        "  iteration = 0\n",
        "  interval = (int)(max_iter / 10)\n",
        "  while iteration < max_iter:\n",
        "      solution_voisin = get_voisin(solution_courrante, pt, vMax, vMin ) # générer une solution voisine en utilisant la fonction aléatoire \n",
        "      (volume_voisin, benefice_voisin) = (get_v(solution_voisin),get_b(solution_voisin))\n",
        "\n",
        "      if benefice_voisin > benefice_courant:  \n",
        "        (solution_courrante, volume_courrant, benefice_courant) = (solution_voisin, volume_voisin, benefice_voisin)\n",
        "        if (meilleure_benefice < benefice_courant):\n",
        "          (meilleure_solution, meilleure_benefice) = (solution_courrante, benefice_courant)\n",
        "\n",
        "      else:          # si le cout du voisin est inférieure\n",
        "        accept_p = np.exp( (benefice_voisin - benefice_courant ) / temperature_courrante ) \n",
        "        p = rnd.random()\n",
        "        if p < accept_p: \n",
        "          (solution_courrante, volume_courrant, benefice_courant) = (solution_voisin, volume_voisin, benefice_voisin)\n",
        "        # else don't accept\n",
        "\n",
        "      if iteration % interval == 0:\n",
        "        print(\"iter = %6d  benefice = %7.0f volume = %7.0f temperature = %10.2f  solution courrante = \" % (iteration, benefice_courant, volume_courrant,  temperature_courrante), affichage(solution_courrante, nb_produits))\n",
        "      if temperature_courrante < 0.00001:\n",
        "        temperature_courrante = 0.00001\n",
        "      else:\n",
        "        temperature_courrante*= alpha\n",
        "\n",
        "      iteration += 1\n",
        "  \n",
        "  print(\"\\n*********meilleure_benefice***********\")\n",
        "  print(\"meilleure cout : \",meilleure_benefice)\n",
        "  return meilleure_solution, meilleure_benefice"
      ],
      "metadata": {
        "id": "wc36Ac0_kYC0"
      },
      "execution_count": 84,
      "outputs": []
    },
    {
      "cell_type": "code",
      "source": [
        "def load_pt_from_csvF():\n",
        "    fil = open('knapsac_instance.csv')\n",
        "    csvreader = csv.reader(fil)\n",
        "    header=[]\n",
        "    header=next(csvreader)\n",
        "    rows = []\n",
        "    i=1\n",
        "    pt=[]\n",
        "    l=[]\n",
        "    for row in csvreader :\n",
        "        l = [i, int(row[0]), int(row[1])]\n",
        "        pt.append(l)\n",
        "        i=i+1\n",
        "    return pt"
      ],
      "metadata": {
        "id": "uNCHvJDtn318"
      },
      "execution_count": 85,
      "outputs": []
    },
    {
      "cell_type": "code",
      "source": [
        "#*******************************test 1***********************************\n",
        "# volume du sac\n",
        "vMax = 130\n",
        "vMin = 32\n",
        "# produits\n",
        "x1 = [1,33,4]\n",
        "x2 = [2,49,5]\n",
        "x3 = [3,60,6]\n",
        "x4 = [4,32,2]\n",
        "\n",
        "# table des produits\n",
        "pt = [x1,x2,x3,x4]\n",
        "\n",
        "#génération de la solution initiale\n",
        "solution_initiale = get_solution_init(pt)\n",
        "\n",
        "(meilleure_solution, meilleure_benefice)=Recuit_simule(pt, 10, solution_initiale, 100, 0.98,np.random.RandomState(5))\n",
        "\n"
      ],
      "metadata": {
        "colab": {
          "base_uri": "https://localhost:8080/"
        },
        "id": "6v80JcCqkcKW",
        "outputId": "e85f2085-52d1-4eb8-ad1d-b8814f3e931d"
      },
      "execution_count": 86,
      "outputs": [
        {
          "output_type": "stream",
          "name": "stdout",
          "text": [
            "*************paramètres*************\n",
            "nombre d'itérations :  10\n",
            "température initiale :  100\n",
            "alpha :  0.98\n",
            "\n",
            "*********solution initial***********\n",
            "[3 0 0 0]\n",
            "cout initiale :  12\n",
            "************************************\n",
            "\n",
            "iter =      0  benefice =      13 volume =     115 temperature =     100.00  solution courrante =  [2 1 0 0]\n",
            "iter =      1  benefice =      13 volume =     115 temperature =      98.00  solution courrante =  [2 1 0 0]\n",
            "iter =      2  benefice =      13 volume =     115 temperature =      96.04  solution courrante =  [2 1 0 0]\n",
            "iter =      3  benefice =      13 volume =     115 temperature =      94.12  solution courrante =  [2 1 0 0]\n",
            "iter =      4  benefice =      13 volume =     115 temperature =      92.24  solution courrante =  [2 1 0 0]\n",
            "iter =      5  benefice =      14 volume =     126 temperature =      90.39  solution courrante =  [2 0 1 0]\n",
            "iter =      6  benefice =      14 volume =     126 temperature =      88.58  solution courrante =  [2 0 1 0]\n",
            "iter =      7  benefice =      14 volume =     126 temperature =      86.81  solution courrante =  [2 0 1 0]\n",
            "iter =      8  benefice =      13 volume =     115 temperature =      85.08  solution courrante =  [2 1 0 0]\n",
            "iter =      9  benefice =      14 volume =     126 temperature =      83.37  solution courrante =  [2 0 1 0]\n",
            "\n",
            "*********meilleure_benefice***********\n",
            "meilleure cout :  14\n"
          ]
        }
      ]
    },
    {
      "cell_type": "code",
      "source": [
        "#*******************************test 2***********************************\n",
        "# volume du sac\n",
        "vMax = 500000\n",
        "vMin = 260\n",
        "# produits\n",
        "pt = load_pt_from_csvF()\n",
        "\n",
        "# table des produits\n",
        "\n",
        "\n",
        "#génération de la solution initiale\n",
        "solution_initiale = get_solution_init(pt)\n",
        "\n",
        "(meilleure_solution, meilleure_benefice)=Recuit_simule(pt, 20, solution_initiale, 100, 0.98,np.random.RandomState(5))\n"
      ],
      "metadata": {
        "colab": {
          "base_uri": "https://localhost:8080/"
        },
        "id": "hV8B1MEhnyYJ",
        "outputId": "8696fe04-985c-4fff-a4bf-b74bdd4c00f7"
      },
      "execution_count": 87,
      "outputs": [
        {
          "output_type": "stream",
          "name": "stdout",
          "text": [
            "*************paramètres*************\n",
            "nombre d'itérations :  20\n",
            "température initiale :  100\n",
            "alpha :  0.98\n",
            "\n",
            "*********solution initial***********\n",
            "[ 0  0  0  0  0 61  0  0  0  0  0  0  0  0  1  0  0  0  1]\n",
            "cout initiale :  558697\n",
            "************************************\n",
            "\n",
            "iter =      0  benefice =  558697 volume =  499742 temperature =     100.00  solution courrante =  [ 4  3  0  6  6 33  6  2  4  2  5  3  7  7  2  6  5  5  1]\n",
            "iter =      2  benefice =  558697 volume =  499742 temperature =      96.04  solution courrante =  [ 6  5  4  5 12 17  8  5  7  4 10  4  7  7 11  5  6  9  0]\n",
            "iter =      4  benefice =  558697 volume =  499742 temperature =      92.24  solution courrante =  [11  4  4  8  7 11  8  7  7  6 11  7 12 11 12  3  8 12  0]\n",
            "iter =      6  benefice =  558697 volume =  499742 temperature =      88.58  solution courrante =  [ 7  5  6  6  8  5  6  9 11 10 17  2 11 12  8  7  8  8  0]\n",
            "iter =      8  benefice =  558697 volume =  499742 temperature =      85.08  solution courrante =  [10  6  4  4  6 11  9  8 10  5  7  9  7 13  7  7  6 12  0]\n",
            "iter =     10  benefice =  558697 volume =  499742 temperature =      81.71  solution courrante =  [ 7  6  3  7  9 10 10  8  5  9  7  9  8 16 11  7  7 11  0]\n",
            "iter =     12  benefice =  558697 volume =  499742 temperature =      78.47  solution courrante =  [ 7  9  8  6  8  5  4  6  5 12  7  7 10 14  7 13  4 16  0]\n",
            "iter =     14  benefice =  558697 volume =  499742 temperature =      75.36  solution courrante =  [ 8  9  8 12  5  7 10 14  9 10  3  5  7  8  7  6  7  6  0]\n",
            "iter =     16  benefice =  558697 volume =  499742 temperature =      72.38  solution courrante =  [11 10  8 10  6  7  5  6  5  9  6  9 13  5  9  7  6  8  0]\n",
            "iter =     18  benefice =  558697 volume =  499742 temperature =      69.51  solution courrante =  [ 7  6  4  2 13  7 13  7  9  8 11 11 11  9  7  8  4 13  0]\n",
            "\n",
            "*********meilleure_benefice***********\n",
            "meilleure cout :  558697\n"
          ]
        }
      ]
    }
  ]
}